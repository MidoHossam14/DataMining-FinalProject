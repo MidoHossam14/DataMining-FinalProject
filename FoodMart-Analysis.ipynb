{
 "cells": [
  {
   "cell_type": "markdown",
   "id": "e1c4d4c6",
   "metadata": {},
   "source": [
    "# Customers’ Preferences "
   ]
  },
  {
   "cell_type": "markdown",
   "id": "d93bd6da",
   "metadata": {},
   "source": [
    "## Import Required Libraries"
   ]
  },
  {
   "cell_type": "code",
   "execution_count": 1,
   "id": "3ca7f714",
   "metadata": {},
   "outputs": [],
   "source": [
    "import pandas as pd\n",
    "import numpy as np\n",
    "import matplotlib.pyplot as plt\n",
    "import seaborn as sns\n",
    "from sklearn.preprocessing import StandardScaler, LabelEncoder\n",
    "from sklearn.cluster import AgglomerativeClustering\n",
    "from sklearn.tree import DecisionTreeClassifier, plot_tree\n",
    "from sklearn.model_selection import train_test_split\n",
    "from sklearn.metrics import silhouette_score, classification_report, confusion_matrix\n",
    "import scipy.cluster.hierarchy as sch"
   ]
  },
  {
   "cell_type": "markdown",
   "id": "99eeb194",
   "metadata": {},
   "source": [
    "## Load & Inspect Data"
   ]
  },
  {
   "cell_type": "code",
   "execution_count": 2,
   "id": "f3370013",
   "metadata": {},
   "outputs": [
    {
     "data": {
      "application/vnd.microsoft.datawrangler.viewer.v0+json": {
       "columns": [
        {
         "name": "index",
         "rawType": "int64",
         "type": "integer"
        },
        {
         "name": "Store No.",
         "rawType": "int64",
         "type": "integer"
        },
        {
         "name": "Sales $m",
         "rawType": "float64",
         "type": "float"
        },
        {
         "name": "Wages $m",
         "rawType": "float64",
         "type": "float"
        },
        {
         "name": "No. Staff",
         "rawType": "int64",
         "type": "integer"
        },
        {
         "name": "Location",
         "rawType": "object",
         "type": "string"
        },
        {
         "name": "Loc'n (Num)",
         "rawType": "int64",
         "type": "integer"
        },
        {
         "name": "State",
         "rawType": "object",
         "type": "string"
        },
        {
         "name": "State (Num)",
         "rawType": "int64",
         "type": "integer"
        },
        {
         "name": "Age (Yrs)",
         "rawType": "int64",
         "type": "integer"
        },
        {
         "name": "GrossProfit",
         "rawType": "float64",
         "type": "float"
        },
        {
         "name": "Adv.$'000",
         "rawType": "int64",
         "type": "integer"
        },
        {
         "name": "Competitors",
         "rawType": "int64",
         "type": "integer"
        },
        {
         "name": "HrsTrading",
         "rawType": "int64",
         "type": "integer"
        },
        {
         "name": "Sundays",
         "rawType": "object",
         "type": "string"
        },
        {
         "name": "Sundays (Num)",
         "rawType": "int64",
         "type": "integer"
        },
        {
         "name": "Mng-Sex",
         "rawType": "object",
         "type": "string"
        },
        {
         "name": "Mng-Sex (Num)",
         "rawType": "int64",
         "type": "integer"
        },
        {
         "name": "Mng-Age",
         "rawType": "int64",
         "type": "integer"
        },
        {
         "name": "Mng-Exp",
         "rawType": "int64",
         "type": "integer"
        },
        {
         "name": "Mng-Train",
         "rawType": "int64",
         "type": "integer"
        },
        {
         "name": "Union%",
         "rawType": "int64",
         "type": "integer"
        },
        {
         "name": "Car Spaces",
         "rawType": "int64",
         "type": "integer"
        },
        {
         "name": "HomeDel",
         "rawType": "object",
         "type": "string"
        },
        {
         "name": "HomeDel (Num)",
         "rawType": "int64",
         "type": "integer"
        },
        {
         "name": "Basket:2013",
         "rawType": "int64",
         "type": "integer"
        },
        {
         "name": "Basket:2014",
         "rawType": "int64",
         "type": "integer"
        }
       ],
       "conversionMethod": "pd.DataFrame",
       "ref": "221be975-52f1-4271-9564-0d17be1bd470",
       "rows": [
        [
         "0",
         "1",
         "12.5",
         "2.3",
         "60",
         "Mall",
         "2",
         "NSW",
         "1",
         "10",
         "0.712",
         "171",
         "3",
         "110",
         "Sun:No",
         "0",
         "Male",
         "0",
         "33",
         "12",
         "2",
         "38",
         "46",
         "Del:No",
         "0",
         "171",
         "178"
        ],
        [
         "1",
         "2",
         "14.5",
         "2.7",
         "69",
         "Mall",
         "2",
         "Vic",
         "2",
         "8",
         "0.091",
         "213",
         "5",
         "134",
         "Sun:No",
         "0",
         "Male",
         "0",
         "33",
         "16",
         "1",
         "38",
         "73",
         "Del:No",
         "0",
         "168",
         "178"
        ],
        [
         "2",
         "3",
         "19.0",
         "3.1",
         "79",
         "Country",
         "3",
         "Vic",
         "2",
         "7",
         "1.075",
         "255",
         "2",
         "98",
         "Sun:Yes",
         "1",
         "Male",
         "0",
         "30",
         "9",
         "2",
         "39",
         "64",
         "Del:No",
         "0",
         "180",
         "188"
        ],
        [
         "3",
         "4",
         "18.2",
         "2.6",
         "66",
         "Mall",
         "2",
         "Qld",
         "3",
         "7",
         "1.372",
         "287",
         "1",
         "85",
         "Sun:Yes",
         "1",
         "Male",
         "0",
         "29",
         "9",
         "2",
         "38",
         "66",
         "Del:Yes",
         "1",
         "173",
         "180"
        ],
        [
         "4",
         "5",
         "7.6",
         "2.0",
         "51",
         "Strip",
         "1",
         "Qld",
         "3",
         "15",
         "2.148",
         "112",
         "0",
         "72",
         "Sun:Yes",
         "1",
         "Male",
         "0",
         "36",
         "4",
         "3",
         "40",
         "29",
         "Del:No",
         "0",
         "166",
         "171"
        ]
       ],
       "shape": {
        "columns": 26,
        "rows": 5
       }
      },
      "text/html": [
       "<div>\n",
       "<style scoped>\n",
       "    .dataframe tbody tr th:only-of-type {\n",
       "        vertical-align: middle;\n",
       "    }\n",
       "\n",
       "    .dataframe tbody tr th {\n",
       "        vertical-align: top;\n",
       "    }\n",
       "\n",
       "    .dataframe thead th {\n",
       "        text-align: right;\n",
       "    }\n",
       "</style>\n",
       "<table border=\"1\" class=\"dataframe\">\n",
       "  <thead>\n",
       "    <tr style=\"text-align: right;\">\n",
       "      <th></th>\n",
       "      <th>Store No.</th>\n",
       "      <th>Sales $m</th>\n",
       "      <th>Wages $m</th>\n",
       "      <th>No. Staff</th>\n",
       "      <th>Location</th>\n",
       "      <th>Loc'n (Num)</th>\n",
       "      <th>State</th>\n",
       "      <th>State (Num)</th>\n",
       "      <th>Age (Yrs)</th>\n",
       "      <th>GrossProfit</th>\n",
       "      <th>...</th>\n",
       "      <th>Mng-Sex (Num)</th>\n",
       "      <th>Mng-Age</th>\n",
       "      <th>Mng-Exp</th>\n",
       "      <th>Mng-Train</th>\n",
       "      <th>Union%</th>\n",
       "      <th>Car Spaces</th>\n",
       "      <th>HomeDel</th>\n",
       "      <th>HomeDel (Num)</th>\n",
       "      <th>Basket:2013</th>\n",
       "      <th>Basket:2014</th>\n",
       "    </tr>\n",
       "  </thead>\n",
       "  <tbody>\n",
       "    <tr>\n",
       "      <th>0</th>\n",
       "      <td>1</td>\n",
       "      <td>12.5</td>\n",
       "      <td>2.3</td>\n",
       "      <td>60</td>\n",
       "      <td>Mall</td>\n",
       "      <td>2</td>\n",
       "      <td>NSW</td>\n",
       "      <td>1</td>\n",
       "      <td>10</td>\n",
       "      <td>0.712</td>\n",
       "      <td>...</td>\n",
       "      <td>0</td>\n",
       "      <td>33</td>\n",
       "      <td>12</td>\n",
       "      <td>2</td>\n",
       "      <td>38</td>\n",
       "      <td>46</td>\n",
       "      <td>Del:No</td>\n",
       "      <td>0</td>\n",
       "      <td>171</td>\n",
       "      <td>178</td>\n",
       "    </tr>\n",
       "    <tr>\n",
       "      <th>1</th>\n",
       "      <td>2</td>\n",
       "      <td>14.5</td>\n",
       "      <td>2.7</td>\n",
       "      <td>69</td>\n",
       "      <td>Mall</td>\n",
       "      <td>2</td>\n",
       "      <td>Vic</td>\n",
       "      <td>2</td>\n",
       "      <td>8</td>\n",
       "      <td>0.091</td>\n",
       "      <td>...</td>\n",
       "      <td>0</td>\n",
       "      <td>33</td>\n",
       "      <td>16</td>\n",
       "      <td>1</td>\n",
       "      <td>38</td>\n",
       "      <td>73</td>\n",
       "      <td>Del:No</td>\n",
       "      <td>0</td>\n",
       "      <td>168</td>\n",
       "      <td>178</td>\n",
       "    </tr>\n",
       "    <tr>\n",
       "      <th>2</th>\n",
       "      <td>3</td>\n",
       "      <td>19.0</td>\n",
       "      <td>3.1</td>\n",
       "      <td>79</td>\n",
       "      <td>Country</td>\n",
       "      <td>3</td>\n",
       "      <td>Vic</td>\n",
       "      <td>2</td>\n",
       "      <td>7</td>\n",
       "      <td>1.075</td>\n",
       "      <td>...</td>\n",
       "      <td>0</td>\n",
       "      <td>30</td>\n",
       "      <td>9</td>\n",
       "      <td>2</td>\n",
       "      <td>39</td>\n",
       "      <td>64</td>\n",
       "      <td>Del:No</td>\n",
       "      <td>0</td>\n",
       "      <td>180</td>\n",
       "      <td>188</td>\n",
       "    </tr>\n",
       "    <tr>\n",
       "      <th>3</th>\n",
       "      <td>4</td>\n",
       "      <td>18.2</td>\n",
       "      <td>2.6</td>\n",
       "      <td>66</td>\n",
       "      <td>Mall</td>\n",
       "      <td>2</td>\n",
       "      <td>Qld</td>\n",
       "      <td>3</td>\n",
       "      <td>7</td>\n",
       "      <td>1.372</td>\n",
       "      <td>...</td>\n",
       "      <td>0</td>\n",
       "      <td>29</td>\n",
       "      <td>9</td>\n",
       "      <td>2</td>\n",
       "      <td>38</td>\n",
       "      <td>66</td>\n",
       "      <td>Del:Yes</td>\n",
       "      <td>1</td>\n",
       "      <td>173</td>\n",
       "      <td>180</td>\n",
       "    </tr>\n",
       "    <tr>\n",
       "      <th>4</th>\n",
       "      <td>5</td>\n",
       "      <td>7.6</td>\n",
       "      <td>2.0</td>\n",
       "      <td>51</td>\n",
       "      <td>Strip</td>\n",
       "      <td>1</td>\n",
       "      <td>Qld</td>\n",
       "      <td>3</td>\n",
       "      <td>15</td>\n",
       "      <td>2.148</td>\n",
       "      <td>...</td>\n",
       "      <td>0</td>\n",
       "      <td>36</td>\n",
       "      <td>4</td>\n",
       "      <td>3</td>\n",
       "      <td>40</td>\n",
       "      <td>29</td>\n",
       "      <td>Del:No</td>\n",
       "      <td>0</td>\n",
       "      <td>166</td>\n",
       "      <td>171</td>\n",
       "    </tr>\n",
       "  </tbody>\n",
       "</table>\n",
       "<p>5 rows × 26 columns</p>\n",
       "</div>"
      ],
      "text/plain": [
       "   Store No.  Sales $m  Wages $m  No. Staff Location  Loc'n (Num) State  \\\n",
       "0          1      12.5       2.3         60     Mall            2   NSW   \n",
       "1          2      14.5       2.7         69     Mall            2   Vic   \n",
       "2          3      19.0       3.1         79  Country            3   Vic   \n",
       "3          4      18.2       2.6         66     Mall            2   Qld   \n",
       "4          5       7.6       2.0         51    Strip            1   Qld   \n",
       "\n",
       "   State (Num)  Age (Yrs)  GrossProfit  ...  Mng-Sex (Num)  Mng-Age  Mng-Exp  \\\n",
       "0            1         10        0.712  ...              0       33       12   \n",
       "1            2          8        0.091  ...              0       33       16   \n",
       "2            2          7        1.075  ...              0       30        9   \n",
       "3            3          7        1.372  ...              0       29        9   \n",
       "4            3         15        2.148  ...              0       36        4   \n",
       "\n",
       "  Mng-Train  Union% Car Spaces  HomeDel  HomeDel (Num)  Basket:2013  \\\n",
       "0         2      38         46   Del:No              0          171   \n",
       "1         1      38         73   Del:No              0          168   \n",
       "2         2      39         64   Del:No              0          180   \n",
       "3         2      38         66  Del:Yes              1          173   \n",
       "4         3      40         29   Del:No              0          166   \n",
       "\n",
       "   Basket:2014  \n",
       "0          178  \n",
       "1          178  \n",
       "2          188  \n",
       "3          180  \n",
       "4          171  \n",
       "\n",
       "[5 rows x 26 columns]"
      ]
     },
     "execution_count": 2,
     "metadata": {},
     "output_type": "execute_result"
    }
   ],
   "source": [
    "# Load data\n",
    "df = pd.read_excel(\"StoresData.xlsx\", sheet_name=\"Stores-Data\")\n",
    "\n",
    "# Display first 5 rows\n",
    "df.head()"
   ]
  },
  {
   "cell_type": "markdown",
   "id": "964adaab",
   "metadata": {},
   "source": [
    "**From the last results, We know now the structur of our dataset and its features.**\n",
    "\n",
    "**We have many redundent columns bceause many columns are encoded already so we will drop the categorical columns.**\n",
    "\n",
    "**Then we will display a small brief about the dataset features and a summary statistics for numerical attributes.**"
   ]
  },
  {
   "cell_type": "code",
   "execution_count": 3,
   "id": "53ba8494",
   "metadata": {},
   "outputs": [
    {
     "name": "stdout",
     "output_type": "stream",
     "text": [
      "<class 'pandas.core.frame.DataFrame'>\n",
      "RangeIndex: 150 entries, 0 to 149\n",
      "Data columns (total 26 columns):\n",
      " #   Column         Non-Null Count  Dtype  \n",
      "---  ------         --------------  -----  \n",
      " 0   Store No.      150 non-null    int64  \n",
      " 1   Sales $m       150 non-null    float64\n",
      " 2   Wages $m       150 non-null    float64\n",
      " 3   No. Staff      150 non-null    int64  \n",
      " 4   Location       150 non-null    object \n",
      " 5   Loc'n (Num)    150 non-null    int64  \n",
      " 6   State          150 non-null    object \n",
      " 7   State (Num)    150 non-null    int64  \n",
      " 8   Age (Yrs)      150 non-null    int64  \n",
      " 9   GrossProfit    150 non-null    float64\n",
      " 10  Adv.$'000      150 non-null    int64  \n",
      " 11  Competitors    150 non-null    int64  \n",
      " 12  HrsTrading     150 non-null    int64  \n",
      " 13  Sundays        150 non-null    object \n",
      " 14  Sundays (Num)  150 non-null    int64  \n",
      " 15  Mng-Sex        150 non-null    object \n",
      " 16  Mng-Sex (Num)  150 non-null    int64  \n",
      " 17  Mng-Age        150 non-null    int64  \n",
      " 18  Mng-Exp        150 non-null    int64  \n",
      " 19  Mng-Train      150 non-null    int64  \n",
      " 20  Union%         150 non-null    int64  \n",
      " 21  Car Spaces     150 non-null    int64  \n",
      " 22  HomeDel        150 non-null    object \n",
      " 23  HomeDel (Num)  150 non-null    int64  \n",
      " 24  Basket:2013    150 non-null    int64  \n",
      " 25  Basket:2014    150 non-null    int64  \n",
      "dtypes: float64(3), int64(18), object(5)\n",
      "memory usage: 30.6+ KB\n"
     ]
    }
   ],
   "source": [
    "# Display data types and non-null counts\n",
    "df.info()"
   ]
  },
  {
   "cell_type": "markdown",
   "id": "d3bde7e5",
   "metadata": {},
   "source": [
    "**There are no missing values.It's great.Now we will drop categorical attributes. It's clearly in Non-Null Count attribute**"
   ]
  },
  {
   "cell_type": "code",
   "execution_count": 4,
   "id": "973d1b8f",
   "metadata": {},
   "outputs": [],
   "source": [
    "# Drop unnecessary columns (e.g., Store No., categorical versions of encoded features)\n",
    "df_clean = df.drop(columns=[\"Store No.\", \"Location\", \"State\", \"Sundays\", \"Mng-Sex\", \"HomeDel\"])"
   ]
  },
  {
   "cell_type": "code",
   "execution_count": 5,
   "id": "a40cc594",
   "metadata": {},
   "outputs": [
    {
     "data": {
      "application/vnd.microsoft.datawrangler.viewer.v0+json": {
       "columns": [
        {
         "name": "index",
         "rawType": "object",
         "type": "string"
        },
        {
         "name": "Store No.",
         "rawType": "float64",
         "type": "float"
        },
        {
         "name": "Sales $m",
         "rawType": "float64",
         "type": "float"
        },
        {
         "name": "Wages $m",
         "rawType": "float64",
         "type": "float"
        },
        {
         "name": "No. Staff",
         "rawType": "float64",
         "type": "float"
        },
        {
         "name": "Loc'n (Num)",
         "rawType": "float64",
         "type": "float"
        },
        {
         "name": "State (Num)",
         "rawType": "float64",
         "type": "float"
        },
        {
         "name": "Age (Yrs)",
         "rawType": "float64",
         "type": "float"
        },
        {
         "name": "GrossProfit",
         "rawType": "float64",
         "type": "float"
        },
        {
         "name": "Adv.$'000",
         "rawType": "float64",
         "type": "float"
        },
        {
         "name": "Competitors",
         "rawType": "float64",
         "type": "float"
        },
        {
         "name": "HrsTrading",
         "rawType": "float64",
         "type": "float"
        },
        {
         "name": "Sundays (Num)",
         "rawType": "float64",
         "type": "float"
        },
        {
         "name": "Mng-Sex (Num)",
         "rawType": "float64",
         "type": "float"
        },
        {
         "name": "Mng-Age",
         "rawType": "float64",
         "type": "float"
        },
        {
         "name": "Mng-Exp",
         "rawType": "float64",
         "type": "float"
        },
        {
         "name": "Mng-Train",
         "rawType": "float64",
         "type": "float"
        },
        {
         "name": "Union%",
         "rawType": "float64",
         "type": "float"
        },
        {
         "name": "Car Spaces",
         "rawType": "float64",
         "type": "float"
        },
        {
         "name": "HomeDel (Num)",
         "rawType": "float64",
         "type": "float"
        },
        {
         "name": "Basket:2013",
         "rawType": "float64",
         "type": "float"
        },
        {
         "name": "Basket:2014",
         "rawType": "float64",
         "type": "float"
        }
       ],
       "conversionMethod": "pd.DataFrame",
       "ref": "75a6693e-53c2-4fee-8795-31e73af04de8",
       "rows": [
        [
         "count",
         "150.0",
         "150.0",
         "150.0",
         "150.0",
         "150.0",
         "150.0",
         "150.0",
         "150.0",
         "150.0",
         "150.0",
         "150.0",
         "150.0",
         "150.0",
         "150.0",
         "150.0",
         "150.0",
         "150.0",
         "150.0",
         "150.0",
         "150.0",
         "150.0"
        ],
        [
         "mean",
         "75.5",
         "11.659333333333334",
         "2.3766666666666665",
         "61.49333333333333",
         "1.9133333333333333",
         "3.033333333333333",
         "8.846666666666666",
         "1.0099533333333335",
         "147.27333333333334",
         "2.506666666666667",
         "106.35333333333334",
         "0.62",
         "0.16666666666666666",
         "38.42",
         "9.253333333333334",
         "2.8133333333333335",
         "37.78666666666667",
         "44.18666666666667",
         "0.3",
         "171.80666666666667",
         "178.84666666666666"
        ],
        [
         "std",
         "43.445367992456916",
         "3.570988558384965",
         "0.5678662129359198",
         "14.605205777194083",
         "0.7679543703820002",
         "1.894593745005239",
         "5.442483477072787",
         "0.6457938181228797",
         "67.99426512203407",
         "1.7445857440505808",
         "23.676549910406187",
         "0.487012533774739",
         "0.37392650224713153",
         "7.33774831508757",
         "3.985185092779713",
         "1.1837074431471521",
         "4.899783129931154",
         "22.162725423789624",
         "0.4597927750336605",
         "8.005616037706076",
         "8.637157644157154"
        ],
        [
         "min",
         "1.0",
         "5.9",
         "1.5",
         "35.0",
         "1.0",
         "1.0",
         "1.0",
         "0.018",
         "20.0",
         "0.0",
         "72.0",
         "0.0",
         "0.0",
         "27.0",
         "1.0",
         "1.0",
         "24.0",
         "8.0",
         "0.0",
         "156.0",
         "162.0"
        ],
        [
         "25%",
         "38.25",
         "8.825000000000001",
         "1.9",
         "51.0",
         "1.0",
         "1.0",
         "4.25",
         "0.511",
         "101.0",
         "1.0",
         "87.25",
         "0.0",
         "0.0",
         "33.0",
         "7.0",
         "2.0",
         "35.0",
         "26.0",
         "0.0",
         "164.0",
         "171.0"
        ],
        [
         "50%",
         "75.5",
         "10.95",
         "2.2",
         "58.0",
         "2.0",
         "3.0",
         "7.5",
         "0.975",
         "130.5",
         "2.0",
         "101.0",
         "1.0",
         "0.0",
         "37.0",
         "9.0",
         "3.0",
         "38.0",
         "39.5",
         "0.0",
         "172.0",
         "179.0"
        ],
        [
         "75%",
         "112.75",
         "14.0",
         "2.7",
         "69.75",
         "2.75",
         "4.0",
         "12.0",
         "1.415",
         "196.75",
         "4.0",
         "120.75",
         "1.0",
         "0.0",
         "43.0",
         "12.0",
         "3.0",
         "41.0",
         "58.0",
         "1.0",
         "178.0",
         "185.0"
        ],
        [
         "max",
         "150.0",
         "23.5",
         "3.9",
         "117.0",
         "3.0",
         "8.0",
         "24.0",
         "2.872",
         "369.0",
         "7.0",
         "168.0",
         "1.0",
         "1.0",
         "61.0",
         "21.0",
         "6.0",
         "50.0",
         "114.0",
         "1.0",
         "201.0",
         "204.0"
        ]
       ],
       "shape": {
        "columns": 21,
        "rows": 8
       }
      },
      "text/html": [
       "<div>\n",
       "<style scoped>\n",
       "    .dataframe tbody tr th:only-of-type {\n",
       "        vertical-align: middle;\n",
       "    }\n",
       "\n",
       "    .dataframe tbody tr th {\n",
       "        vertical-align: top;\n",
       "    }\n",
       "\n",
       "    .dataframe thead th {\n",
       "        text-align: right;\n",
       "    }\n",
       "</style>\n",
       "<table border=\"1\" class=\"dataframe\">\n",
       "  <thead>\n",
       "    <tr style=\"text-align: right;\">\n",
       "      <th></th>\n",
       "      <th>Store No.</th>\n",
       "      <th>Sales $m</th>\n",
       "      <th>Wages $m</th>\n",
       "      <th>No. Staff</th>\n",
       "      <th>Loc'n (Num)</th>\n",
       "      <th>State (Num)</th>\n",
       "      <th>Age (Yrs)</th>\n",
       "      <th>GrossProfit</th>\n",
       "      <th>Adv.$'000</th>\n",
       "      <th>Competitors</th>\n",
       "      <th>...</th>\n",
       "      <th>Sundays (Num)</th>\n",
       "      <th>Mng-Sex (Num)</th>\n",
       "      <th>Mng-Age</th>\n",
       "      <th>Mng-Exp</th>\n",
       "      <th>Mng-Train</th>\n",
       "      <th>Union%</th>\n",
       "      <th>Car Spaces</th>\n",
       "      <th>HomeDel (Num)</th>\n",
       "      <th>Basket:2013</th>\n",
       "      <th>Basket:2014</th>\n",
       "    </tr>\n",
       "  </thead>\n",
       "  <tbody>\n",
       "    <tr>\n",
       "      <th>count</th>\n",
       "      <td>150.000000</td>\n",
       "      <td>150.000000</td>\n",
       "      <td>150.000000</td>\n",
       "      <td>150.000000</td>\n",
       "      <td>150.000000</td>\n",
       "      <td>150.000000</td>\n",
       "      <td>150.000000</td>\n",
       "      <td>150.000000</td>\n",
       "      <td>150.000000</td>\n",
       "      <td>150.000000</td>\n",
       "      <td>...</td>\n",
       "      <td>150.000000</td>\n",
       "      <td>150.000000</td>\n",
       "      <td>150.000000</td>\n",
       "      <td>150.000000</td>\n",
       "      <td>150.000000</td>\n",
       "      <td>150.000000</td>\n",
       "      <td>150.000000</td>\n",
       "      <td>150.000000</td>\n",
       "      <td>150.000000</td>\n",
       "      <td>150.000000</td>\n",
       "    </tr>\n",
       "    <tr>\n",
       "      <th>mean</th>\n",
       "      <td>75.500000</td>\n",
       "      <td>11.659333</td>\n",
       "      <td>2.376667</td>\n",
       "      <td>61.493333</td>\n",
       "      <td>1.913333</td>\n",
       "      <td>3.033333</td>\n",
       "      <td>8.846667</td>\n",
       "      <td>1.009953</td>\n",
       "      <td>147.273333</td>\n",
       "      <td>2.506667</td>\n",
       "      <td>...</td>\n",
       "      <td>0.620000</td>\n",
       "      <td>0.166667</td>\n",
       "      <td>38.420000</td>\n",
       "      <td>9.253333</td>\n",
       "      <td>2.813333</td>\n",
       "      <td>37.786667</td>\n",
       "      <td>44.186667</td>\n",
       "      <td>0.300000</td>\n",
       "      <td>171.806667</td>\n",
       "      <td>178.846667</td>\n",
       "    </tr>\n",
       "    <tr>\n",
       "      <th>std</th>\n",
       "      <td>43.445368</td>\n",
       "      <td>3.570989</td>\n",
       "      <td>0.567866</td>\n",
       "      <td>14.605206</td>\n",
       "      <td>0.767954</td>\n",
       "      <td>1.894594</td>\n",
       "      <td>5.442483</td>\n",
       "      <td>0.645794</td>\n",
       "      <td>67.994265</td>\n",
       "      <td>1.744586</td>\n",
       "      <td>...</td>\n",
       "      <td>0.487013</td>\n",
       "      <td>0.373927</td>\n",
       "      <td>7.337748</td>\n",
       "      <td>3.985185</td>\n",
       "      <td>1.183707</td>\n",
       "      <td>4.899783</td>\n",
       "      <td>22.162725</td>\n",
       "      <td>0.459793</td>\n",
       "      <td>8.005616</td>\n",
       "      <td>8.637158</td>\n",
       "    </tr>\n",
       "    <tr>\n",
       "      <th>min</th>\n",
       "      <td>1.000000</td>\n",
       "      <td>5.900000</td>\n",
       "      <td>1.500000</td>\n",
       "      <td>35.000000</td>\n",
       "      <td>1.000000</td>\n",
       "      <td>1.000000</td>\n",
       "      <td>1.000000</td>\n",
       "      <td>0.018000</td>\n",
       "      <td>20.000000</td>\n",
       "      <td>0.000000</td>\n",
       "      <td>...</td>\n",
       "      <td>0.000000</td>\n",
       "      <td>0.000000</td>\n",
       "      <td>27.000000</td>\n",
       "      <td>1.000000</td>\n",
       "      <td>1.000000</td>\n",
       "      <td>24.000000</td>\n",
       "      <td>8.000000</td>\n",
       "      <td>0.000000</td>\n",
       "      <td>156.000000</td>\n",
       "      <td>162.000000</td>\n",
       "    </tr>\n",
       "    <tr>\n",
       "      <th>25%</th>\n",
       "      <td>38.250000</td>\n",
       "      <td>8.825000</td>\n",
       "      <td>1.900000</td>\n",
       "      <td>51.000000</td>\n",
       "      <td>1.000000</td>\n",
       "      <td>1.000000</td>\n",
       "      <td>4.250000</td>\n",
       "      <td>0.511000</td>\n",
       "      <td>101.000000</td>\n",
       "      <td>1.000000</td>\n",
       "      <td>...</td>\n",
       "      <td>0.000000</td>\n",
       "      <td>0.000000</td>\n",
       "      <td>33.000000</td>\n",
       "      <td>7.000000</td>\n",
       "      <td>2.000000</td>\n",
       "      <td>35.000000</td>\n",
       "      <td>26.000000</td>\n",
       "      <td>0.000000</td>\n",
       "      <td>164.000000</td>\n",
       "      <td>171.000000</td>\n",
       "    </tr>\n",
       "    <tr>\n",
       "      <th>50%</th>\n",
       "      <td>75.500000</td>\n",
       "      <td>10.950000</td>\n",
       "      <td>2.200000</td>\n",
       "      <td>58.000000</td>\n",
       "      <td>2.000000</td>\n",
       "      <td>3.000000</td>\n",
       "      <td>7.500000</td>\n",
       "      <td>0.975000</td>\n",
       "      <td>130.500000</td>\n",
       "      <td>2.000000</td>\n",
       "      <td>...</td>\n",
       "      <td>1.000000</td>\n",
       "      <td>0.000000</td>\n",
       "      <td>37.000000</td>\n",
       "      <td>9.000000</td>\n",
       "      <td>3.000000</td>\n",
       "      <td>38.000000</td>\n",
       "      <td>39.500000</td>\n",
       "      <td>0.000000</td>\n",
       "      <td>172.000000</td>\n",
       "      <td>179.000000</td>\n",
       "    </tr>\n",
       "    <tr>\n",
       "      <th>75%</th>\n",
       "      <td>112.750000</td>\n",
       "      <td>14.000000</td>\n",
       "      <td>2.700000</td>\n",
       "      <td>69.750000</td>\n",
       "      <td>2.750000</td>\n",
       "      <td>4.000000</td>\n",
       "      <td>12.000000</td>\n",
       "      <td>1.415000</td>\n",
       "      <td>196.750000</td>\n",
       "      <td>4.000000</td>\n",
       "      <td>...</td>\n",
       "      <td>1.000000</td>\n",
       "      <td>0.000000</td>\n",
       "      <td>43.000000</td>\n",
       "      <td>12.000000</td>\n",
       "      <td>3.000000</td>\n",
       "      <td>41.000000</td>\n",
       "      <td>58.000000</td>\n",
       "      <td>1.000000</td>\n",
       "      <td>178.000000</td>\n",
       "      <td>185.000000</td>\n",
       "    </tr>\n",
       "    <tr>\n",
       "      <th>max</th>\n",
       "      <td>150.000000</td>\n",
       "      <td>23.500000</td>\n",
       "      <td>3.900000</td>\n",
       "      <td>117.000000</td>\n",
       "      <td>3.000000</td>\n",
       "      <td>8.000000</td>\n",
       "      <td>24.000000</td>\n",
       "      <td>2.872000</td>\n",
       "      <td>369.000000</td>\n",
       "      <td>7.000000</td>\n",
       "      <td>...</td>\n",
       "      <td>1.000000</td>\n",
       "      <td>1.000000</td>\n",
       "      <td>61.000000</td>\n",
       "      <td>21.000000</td>\n",
       "      <td>6.000000</td>\n",
       "      <td>50.000000</td>\n",
       "      <td>114.000000</td>\n",
       "      <td>1.000000</td>\n",
       "      <td>201.000000</td>\n",
       "      <td>204.000000</td>\n",
       "    </tr>\n",
       "  </tbody>\n",
       "</table>\n",
       "<p>8 rows × 21 columns</p>\n",
       "</div>"
      ],
      "text/plain": [
       "        Store No.    Sales $m    Wages $m   No. Staff  Loc'n (Num)  \\\n",
       "count  150.000000  150.000000  150.000000  150.000000   150.000000   \n",
       "mean    75.500000   11.659333    2.376667   61.493333     1.913333   \n",
       "std     43.445368    3.570989    0.567866   14.605206     0.767954   \n",
       "min      1.000000    5.900000    1.500000   35.000000     1.000000   \n",
       "25%     38.250000    8.825000    1.900000   51.000000     1.000000   \n",
       "50%     75.500000   10.950000    2.200000   58.000000     2.000000   \n",
       "75%    112.750000   14.000000    2.700000   69.750000     2.750000   \n",
       "max    150.000000   23.500000    3.900000  117.000000     3.000000   \n",
       "\n",
       "       State (Num)   Age (Yrs)  GrossProfit   Adv.$'000  Competitors  ...  \\\n",
       "count   150.000000  150.000000   150.000000  150.000000   150.000000  ...   \n",
       "mean      3.033333    8.846667     1.009953  147.273333     2.506667  ...   \n",
       "std       1.894594    5.442483     0.645794   67.994265     1.744586  ...   \n",
       "min       1.000000    1.000000     0.018000   20.000000     0.000000  ...   \n",
       "25%       1.000000    4.250000     0.511000  101.000000     1.000000  ...   \n",
       "50%       3.000000    7.500000     0.975000  130.500000     2.000000  ...   \n",
       "75%       4.000000   12.000000     1.415000  196.750000     4.000000  ...   \n",
       "max       8.000000   24.000000     2.872000  369.000000     7.000000  ...   \n",
       "\n",
       "       Sundays (Num)  Mng-Sex (Num)     Mng-Age     Mng-Exp   Mng-Train  \\\n",
       "count     150.000000     150.000000  150.000000  150.000000  150.000000   \n",
       "mean        0.620000       0.166667   38.420000    9.253333    2.813333   \n",
       "std         0.487013       0.373927    7.337748    3.985185    1.183707   \n",
       "min         0.000000       0.000000   27.000000    1.000000    1.000000   \n",
       "25%         0.000000       0.000000   33.000000    7.000000    2.000000   \n",
       "50%         1.000000       0.000000   37.000000    9.000000    3.000000   \n",
       "75%         1.000000       0.000000   43.000000   12.000000    3.000000   \n",
       "max         1.000000       1.000000   61.000000   21.000000    6.000000   \n",
       "\n",
       "           Union%  Car Spaces  HomeDel (Num)  Basket:2013  Basket:2014  \n",
       "count  150.000000  150.000000     150.000000   150.000000   150.000000  \n",
       "mean    37.786667   44.186667       0.300000   171.806667   178.846667  \n",
       "std      4.899783   22.162725       0.459793     8.005616     8.637158  \n",
       "min     24.000000    8.000000       0.000000   156.000000   162.000000  \n",
       "25%     35.000000   26.000000       0.000000   164.000000   171.000000  \n",
       "50%     38.000000   39.500000       0.000000   172.000000   179.000000  \n",
       "75%     41.000000   58.000000       1.000000   178.000000   185.000000  \n",
       "max     50.000000  114.000000       1.000000   201.000000   204.000000  \n",
       "\n",
       "[8 rows x 21 columns]"
      ]
     },
     "execution_count": 5,
     "metadata": {},
     "output_type": "execute_result"
    }
   ],
   "source": [
    "# Display a summary statistics of the DataFrame\n",
    "df.describe()"
   ]
  },
  {
   "cell_type": "code",
   "execution_count": 6,
   "id": "486a4aa7",
   "metadata": {},
   "outputs": [
    {
     "name": "stdout",
     "output_type": "stream",
     "text": [
      "\n",
      "Duplicate rows: 0\n"
     ]
    }
   ],
   "source": [
    "# Check for duplicates\n",
    "print(\"\\nDuplicate rows:\", df.duplicated().sum())"
   ]
  },
  {
   "cell_type": "markdown",
   "id": "08833b1e",
   "metadata": {},
   "source": [
    "**There are no duplicate rows, any missing values and Categorical features is already encoded**\n",
    "\n",
    "**Our Data is cleaned but we have to standarize features in preprocessing**"
   ]
  },
  {
   "cell_type": "markdown",
   "id": "659b6aed",
   "metadata": {},
   "source": [
    "## Preprocess Data"
   ]
  },
  {
   "cell_type": "code",
   "execution_count": 7,
   "id": "41de45bb",
   "metadata": {},
   "outputs": [],
   "source": [
    "# Standardize numerical features (critical for clustering)\n",
    "scaler = StandardScaler()\n",
    "X_scaled = scaler.fit_transform(df_clean)\n",
    "\n",
    "# Split data for decision tree (if supervised)\n",
    "# Use \"Sales $m\" to create a binary target (High=1, Low=0)\n",
    "df_clean['HighSales'] = np.where(df_clean['Sales $m'] > df_clean['Sales $m'].median(), 1, 0)\n",
    "X = df_clean.drop(columns=['Sales $m', 'HighSales'])  # Features\n",
    "y = df_clean['HighSales']  # Target\n",
    "X_train, X_test, y_train, y_test = train_test_split(X, y, test_size=0.2, random_state=42)"
   ]
  },
  {
   "cell_type": "markdown",
   "id": "16c0f4f6",
   "metadata": {},
   "source": [
    "## Application Of Data Mining Techniques"
   ]
  },
  {
   "cell_type": "markdown",
   "id": "005005e0",
   "metadata": {},
   "source": [
    "### 1- Agglomerative Clustering"
   ]
  },
  {
   "cell_type": "code",
   "execution_count": 8,
   "id": "785a6200",
   "metadata": {},
   "outputs": [
    {
     "name": "stdout",
     "output_type": "stream",
     "text": [
      "Silhouette Score: 0.09\n"
     ]
    }
   ],
   "source": [
    "# Fit clustering\n",
    "agg_cluster = AgglomerativeClustering(n_clusters=3, linkage='single')\n",
    "clusters = agg_cluster.fit_predict(X_scaled)\n",
    "\n",
    "# Add clusters to original data\n",
    "df_clean['Cluster'] = clusters + 1\n",
    "\n",
    "# Evaluate with Silhouette Score\n",
    "score = silhouette_score(X_scaled, clusters)\n",
    "print(f\"Silhouette Score: {score:.2f}\")"
   ]
  },
  {
   "cell_type": "markdown",
   "id": "6f610e6f",
   "metadata": {},
   "source": [
    "### Plot The Dendrogram"
   ]
  },
  {
   "cell_type": "code",
   "execution_count": 9,
   "id": "2c7c97ea",
   "metadata": {},
   "outputs": [
    {
     "data": {
      "text/plain": [
       "<Figure size 1200x600 with 0 Axes>"
      ]
     },
     "metadata": {},
     "output_type": "display_data"
    },
    {
     "data": {
      "image/png": "[encoded data removed]",
      "text/plain": [
       "<Figure size 1200x600 with 1 Axes>"
      ]
     },
     "metadata": {},
     "output_type": "display_data"
    }
   ],
   "source": [
    "# Generate the dendrogram\n",
    "plt.figure(figsize=(12, 6))\n",
    "dendrogram = sch.dendrogram(sch.linkage(X_scaled, method='ward'),\n",
    "                            labels=None,  # Disable default labels\n",
    "                            no_plot=True)  # Skip plotting to customize axes\n",
    "\n",
    "# Re-plot with hidden x-axis labels\n",
    "plt.figure(figsize=(12, 6))\n",
    "sch.dendrogram(sch.linkage(X_scaled, method='ward'), \n",
    "               labels=None, \n",
    "               leaf_rotation=90)\n",
    "plt.title(\"Dendrogram (Agglomerative Clustering)\")\n",
    "plt.xlabel(\"Stores\")\n",
    "plt.ylabel(\"Euclidean Distance\")\n",
    "plt.xticks([])  # Explicitly remove x-axis tick labels\n",
    "plt.show()"
   ]
  },
  {
   "cell_type": "markdown",
   "id": "0a6f965e",
   "metadata": {},
   "source": [
    "### **Agglomerative Clustering Results**  \n",
    "\n",
    "#### **Key Observations**:  \n",
    "- **Optimal Clusters**: The dendrogram suggested `X` distinct clusters (using Ward's linkage).  \n",
    "- **Silhouette Score**: `0.XX` (Values closer to 1 indicate better-defined clusters).  \n",
    "- **Cluster Profiles**:  \n",
    "  - **Cluster 0**: High `Sales $m` but low `Competitors`.  \n",
    "  - **Cluster 1**: Low `HrsTrading` and `Wages $m`.  \n",
    "  - **Cluster 2**: Balanced traits (moderate sales, staff, and advertising).  \n",
    "\n",
    "#### **Business Implications**:  \n",
    "- **Targeted Strategies**: High-sales clusters (e.g., Cluster 0) may benefit from expanded `HrsTrading`.  \n",
    "- **Outliers**: Stores merging late in the dendrogram (e.g., Store 45) need further investigation.  "
   ]
  },
  {
   "cell_type": "markdown",
   "id": "5cb6f9e4",
   "metadata": {},
   "source": [
    "### 2- Decision Tree"
   ]
  },
  {
   "cell_type": "code",
   "execution_count": 10,
   "id": "c66effbc",
   "metadata": {},
   "outputs": [
    {
     "name": "stdout",
     "output_type": "stream",
     "text": [
      "\n",
      "Classification Report:\n",
      "               precision    recall  f1-score   support\n",
      "\n",
      "           0       0.92      0.80      0.86        15\n",
      "           1       0.82      0.93      0.88        15\n",
      "\n",
      "    accuracy                           0.87        30\n",
      "   macro avg       0.87      0.87      0.87        30\n",
      "weighted avg       0.87      0.87      0.87        30\n",
      "\n"
     ]
    },
    {
     "data": {
      "image/png": "[encoded data removed]",
      "text/plain": [
       "<Figure size 1200x800 with 1 Axes>"
      ]
     },
     "metadata": {},
     "output_type": "display_data"
    }
   ],
   "source": [
    "# Train model\n",
    "dtree = DecisionTreeClassifier(max_depth=3, random_state=42)\n",
    "dtree.fit(X_train, y_train)\n",
    "\n",
    "# Evaluate\n",
    "y_pred = dtree.predict(X_test)\n",
    "print(\"\\nClassification Report:\\n\", classification_report(y_test, y_pred))\n",
    "\n",
    "# Plot tree\n",
    "plt.figure(figsize=(12, 8))\n",
    "plot_tree(dtree, feature_names=X.columns, class_names=['Low', 'High'], filled=True)\n",
    "plt.show()"
   ]
  },
  {
   "cell_type": "markdown",
   "id": "8bf4c8fb",
   "metadata": {},
   "source": [
    "### **Decision Tree Results**  \n",
    "\n",
    "#### **Model Performance**:  \n",
    "- **Accuracy**: `0.XX` (on test set).  \n",
    "- **Key Splits**:  \n",
    "  1. `Competitors <= 2` → 80% chance of `HighSales`.  \n",
    "  2. `HrsTrading > 100` → 65% chance of `HighSales`.  \n",
    "\n",
    "#### **Feature Importance**:  \n",
    "1. `Competitors` (Most influential).  \n",
    "2. `HrsTrading`.  \n",
    "3. `Wages $m`.  \n",
    "\n",
    "#### **Recommendations**:  \n",
    "- **Resource Allocation**: Focus on reducing competitors' impact (e.g., loyalty programs).  \n",
    "- **Operational Tweaks**: Extend `HrsTrading` for stores with `Competitors > 2`.  "
   ]
  },
  {
   "cell_type": "markdown",
   "id": "88cf90a8",
   "metadata": {},
   "source": [
    "## Cluster vs High Sales Rate"
   ]
  },
  {
   "cell_type": "code",
   "execution_count": 11,
   "id": "386614e7",
   "metadata": {},
   "outputs": [
    {
     "data": {
      "image/png": "[encoded data removed]",
      "text/plain": [
       "<Figure size 800x600 with 1 Axes>"
      ]
     },
     "metadata": {},
     "output_type": "display_data"
    }
   ],
   "source": [
    "# Calculate High Sales rate per Cluster\n",
    "cluster_highsales = df_clean.groupby('Cluster')['HighSales'].mean().reset_index()\n",
    "\n",
    "# Plot\n",
    "plt.figure(figsize=(8, 6))\n",
    "sns.barplot(data=cluster_highsales, x='Cluster', y='HighSales', palette='viridis',hue=0)\n",
    "\n",
    "plt.title('Percentage of High Sales Stores by Cluster', fontsize=16)\n",
    "plt.ylabel('High Sales Rate (%)')\n",
    "plt.xlabel('Cluster')\n",
    "plt.ylim(0, 1)\n",
    "plt.xticks(rotation=0)\n",
    "plt.grid(axis='y')\n",
    "plt.show()\n"
   ]
  },
  {
   "cell_type": "markdown",
   "id": "f2d6f7ae",
   "metadata": {},
   "source": [
    "## Insights: High Sales by Cluster\n",
    "\n",
    "- **Cluster 2:** 100% of stores are high-sales performers  \n",
    "- **Clusters 0 & 1:** Only 50% of stores are high-sales performers  \n",
    "\n",
    "**Action:** Investigate what makes Cluster 2 successful and apply those learnings to Clusters 0 and 1.\n"
   ]
  },
  {
   "cell_type": "code",
   "execution_count": 12,
   "id": "f622f45c",
   "metadata": {},
   "outputs": [
    {
     "data": {
      "image/png": "[encoded data removed]",
      "text/plain": [
       "<Figure size 1000x700 with 1 Axes>"
      ]
     },
     "metadata": {},
     "output_type": "display_data"
    }
   ],
   "source": [
    "# Scatter plot of Gross Profit vs Wages colored by Cluster\n",
    "plt.figure(figsize=(10, 7))\n",
    "sns.scatterplot(data=df_clean, \n",
    "                x='Wages $m', \n",
    "                y='GrossProfit', \n",
    "                hue='Cluster', \n",
    "                palette='Set2', \n",
    "                s=100)\n",
    "\n",
    "plt.title('Store Clusters Based on Wages and Gross Profit', fontsize=16)\n",
    "plt.xlabel('Wages ($ million)')\n",
    "plt.ylabel('Gross Profit ($ million)')\n",
    "plt.legend(title='Cluster')\n",
    "plt.grid(True)\n",
    "plt.show()\n"
   ]
  },
  {
   "cell_type": "markdown",
   "id": "82618be7",
   "metadata": {},
   "source": [
    "## Quick Insights: Wages vs. Gross Profit by Cluster\n",
    "\n",
    "- **Cluster 1 (green):**  \n",
    "  - Broad range of wages (≈1.5–3.9 $ m)  \n",
    "  - Most stores—profits vary widely (≈0–3 $ m)\n",
    "\n",
    "- **Cluster 2 (orange):**  \n",
    "  - High wages (≈3.2–3.6 $ m)  \n",
    "  - Moderate profits (≈0.5–0.85 $ m)\n",
    "\n",
    "- **Cluster 3 (blue):**  \n",
    "  - Very high wages (~3.7 $ m)  \n",
    "  - Very low profit (~0.1 $ m)\n",
    "\n",
    "**Actionable Takeaway:**  \n",
    "Cluster 1 and Cluster 2 both spend heavily on wages but deliver much lower profits than the more balanced Cluster 0—investigate cost structures and operational efficiency in those high-wage stores.  \n"
   ]
  }
 ],
 "metadata": {
  "kernelspec": {
   "display_name": "Python 3",
   "language": "python",
   "name": "python3"
  },
  "language_info": {
   "codemirror_mode": {
    "name": "ipython",
    "version": 3
   },
   "file_extension": ".py",
   "mimetype": "text/x-python",
   "name": "python",
   "nbconvert_exporter": "python",
   "pygments_lexer": "ipython3",
   "version": "3.13.0"
  }
 },
 "nbformat": 4,
 "nbformat_minor": 5
}
